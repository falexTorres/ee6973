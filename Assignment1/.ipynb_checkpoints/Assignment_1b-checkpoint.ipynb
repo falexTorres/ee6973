{
 "cells": [
  {
   "cell_type": "code",
   "execution_count": 678,
   "metadata": {
    "collapsed": false
   },
   "outputs": [],
   "source": [
    "# import os to load data.txt\n",
    "import os\n",
    "# import numpy for matrices\n",
    "import numpy as np\n",
    "# import pandas for statistics\n",
    "import pandas as pd\n",
    "# import matplotlib for plots\n",
    "import matplotlib.pyplot as plt\n",
    "%matplotlib inline"
   ]
  },
  {
   "cell_type": "code",
   "execution_count": 679,
   "metadata": {
    "collapsed": false
   },
   "outputs": [
    {
     "data": {
      "text/html": [
       "<div>\n",
       "<table border=\"1\" class=\"dataframe\">\n",
       "  <thead>\n",
       "    <tr style=\"text-align: right;\">\n",
       "      <th></th>\n",
       "      <th>X</th>\n",
       "      <th>Y</th>\n",
       "    </tr>\n",
       "  </thead>\n",
       "  <tbody>\n",
       "    <tr>\n",
       "      <th>0</th>\n",
       "      <td>0.0</td>\n",
       "      <td>1.0</td>\n",
       "    </tr>\n",
       "    <tr>\n",
       "      <th>1</th>\n",
       "      <td>1.0</td>\n",
       "      <td>3.0</td>\n",
       "    </tr>\n",
       "    <tr>\n",
       "      <th>2</th>\n",
       "      <td>2.0</td>\n",
       "      <td>7.0</td>\n",
       "    </tr>\n",
       "    <tr>\n",
       "      <th>3</th>\n",
       "      <td>3.0</td>\n",
       "      <td>13.0</td>\n",
       "    </tr>\n",
       "    <tr>\n",
       "      <th>4</th>\n",
       "      <td>4.0</td>\n",
       "      <td>21.0</td>\n",
       "    </tr>\n",
       "  </tbody>\n",
       "</table>\n",
       "</div>"
      ],
      "text/plain": [
       "     X     Y\n",
       "0  0.0   1.0\n",
       "1  1.0   3.0\n",
       "2  2.0   7.0\n",
       "3  3.0  13.0\n",
       "4  4.0  21.0"
      ]
     },
     "execution_count": 679,
     "metadata": {},
     "output_type": "execute_result"
    }
   ],
   "source": [
    "# prepare data for pandas\n",
    "path = os.getcwd() + '/' + 'data.txt'\n",
    "data = pd.read_csv(path, header=None, names=['X', 'Y'])\n",
    "data"
   ]
  },
  {
   "cell_type": "code",
   "execution_count": 680,
   "metadata": {
    "collapsed": false,
    "scrolled": true
   },
   "outputs": [
    {
     "data": {
      "text/plain": [
       "<matplotlib.axes._subplots.AxesSubplot at 0x116949518>"
      ]
     },
     "execution_count": 680,
     "metadata": {},
     "output_type": "execute_result"
    },
    {
     "data": {
      "image/png": "[encoded data removed]",
      "text/plain": [
       "<matplotlib.figure.Figure at 0x116a526a0>"
      ]
     },
     "metadata": {},
     "output_type": "display_data"
    }
   ],
   "source": [
    "# plot data\n",
    "data.plot(x='X', y='Y', kind='scatter')"
   ]
  },
  {
   "cell_type": "code",
   "execution_count": 681,
   "metadata": {
    "collapsed": true
   },
   "outputs": [],
   "source": [
    "def computeCost(X, y, theta):\n",
    "    temp = theta\n",
    "    inner = np.power(((X * temp.T) - y), 2)\n",
    "    return np.sum(inner) / (2 * len(X))"
   ]
  },
  {
   "cell_type": "code",
   "execution_count": 682,
   "metadata": {
    "collapsed": false
   },
   "outputs": [],
   "source": [
    "data.insert(0, 'Ones', 1)\n",
    "\n",
    "# set training data and target variable\n",
    "cols = data.shape[1]\n",
    "X = data.iloc[:, 0:cols-1]\n",
    "y = data.iloc[:, cols-1:cols]"
   ]
  },
  {
   "cell_type": "code",
   "execution_count": 683,
   "metadata": {
    "collapsed": false
   },
   "outputs": [],
   "source": [
    "X = np.matrix(X.values)\n",
    "y = np.matrix(y.values)\n",
    "theta = np.matrix(np.array([0, 0]))"
   ]
  },
  {
   "cell_type": "code",
   "execution_count": 684,
   "metadata": {
    "collapsed": false
   },
   "outputs": [
    {
     "data": {
      "text/plain": [
       "((5, 2), (1, 2), (5, 1))"
      ]
     },
     "execution_count": 684,
     "metadata": {},
     "output_type": "execute_result"
    }
   ],
   "source": [
    "X.shape, theta.shape, y.shape"
   ]
  },
  {
   "cell_type": "code",
   "execution_count": 685,
   "metadata": {
    "collapsed": false
   },
   "outputs": [
    {
     "data": {
      "text/plain": [
       "66.900000000000006"
      ]
     },
     "execution_count": 685,
     "metadata": {},
     "output_type": "execute_result"
    }
   ],
   "source": [
    "computeCost(X, y, theta)"
   ]
  },
  {
   "cell_type": "markdown",
   "metadata": {},
   "source": [
    "define gradient descent function where alpha is the learning rate"
   ]
  },
  {
   "cell_type": "code",
   "execution_count": 686,
   "metadata": {
    "collapsed": false
   },
   "outputs": [],
   "source": [
    "\n",
    "def gradientDescent(X, y, theta, alpha, iters):\n",
    "    temp = np.matrix(np.zeros(theta.shape))\n",
    "    parameters = int(theta.ravel().shape[1])\n",
    "    cost = np.zeros(iters)\n",
    "    Wtheta = np.zeros(shape=(iters, 2))\n",
    "    iter_count = 0\n",
    "    \n",
    "\n",
    "    for i in range(iters):\n",
    "        err = (X * theta.T) - y\n",
    "        for j in range(parameters):\n",
    "            term = np.multiply(err, X[:,j])\n",
    "            temp[0,j] = theta[0,j] - ((alpha / len(X)) * np.sum(term))\n",
    "            \n",
    "        theta = temp\n",
    "        cost[i] = computeCost(X, y, theta)\n",
    "        Wtheta[i, 0] = theta[0,0]\n",
    "        Wtheta[i,1] = theta[0,1]\n",
    "        iter_count += 1\n",
    "        \n",
    "        m = Wtheta[i, 1]\n",
    "        b = Wtheta[i, 0]\n",
    "        \n",
    "        if (m > 4.95 and m < 5.0 and b < -0.99 and b > -1.0):\n",
    "            print(\"took\", iter_count, \" iterations to achieve 1% error relative to best fit\")\n",
    "            return Wtheta, cost, iter_count\n",
    "   \n",
    "    \n",
    "    return Wtheta, cost\n",
    "    "
   ]
  },
  {
   "cell_type": "code",
   "execution_count": 687,
   "metadata": {
    "collapsed": false
   },
   "outputs": [
    {
     "name": "stdout",
     "output_type": "stream",
     "text": [
      "took 1841  iterations to achieve 1% error\n"
     ]
    }
   ],
   "source": [
    "# initialize variables for learning rate and iterations\n",
    "# after call the gradient descent function to compute\n",
    "# costs and weights\n",
    "alpha = 0.01\n",
    "iters = 5000\n",
    "\n",
    "# apply gradient percent until 1% error is reached\n",
    "W, cost, iter_count = gradientDescent(X, y, theta, alpha, iters)\n",
    "iters = iter_count"
   ]
  },
  {
   "cell_type": "code",
   "execution_count": 688,
   "metadata": {
    "collapsed": true
   },
   "outputs": [],
   "source": [
    "x = np.linspace(data.X.min(), data.X.max(), 10)"
   ]
  },
  {
   "cell_type": "code",
   "execution_count": 689,
   "metadata": {
    "collapsed": false
   },
   "outputs": [
    {
     "data": {
      "image/png": "[encoded data removed]",
      "text/plain": [
       "<matplotlib.figure.Figure at 0x116727048>"
      ]
     },
     "metadata": {},
     "output_type": "display_data"
    },
    {
     "name": "stdout",
     "output_type": "stream",
     "text": [
      "y =  4.99649328309 x +  -0.990003117847\n",
      "percent error: 0.053030937407\n"
     ]
    }
   ],
   "source": [
    "# plot data and regression line together\n",
    "m = W[iters-1, 1]\n",
    "b = W[iters-1, 0]\n",
    "X = np.array([0, 1.0, 2.0, 3.0, 4.0])\n",
    "Y = np.array([1.0, 3.0, 7.0, 13.0, 21.0])\n",
    "yhat = m * X + b\n",
    "\n",
    "plt.scatter(X, Y)\n",
    "plt.plot(X, yhat)\n",
    "plt.show()\n",
    "\n",
    "# show derived regression line\n",
    "print (\"y = \", m, \"x + \", b)\n",
    "\n",
    "# show final percent error\n",
    "r1 = Y - yhat\n",
    "r2 = Y - Y.mean()\n",
    "r_squared = 1 - r1.dot(r1) / r2.dot(r2) \n",
    "print (\"percent error:\", 1 - r_squared)"
   ]
  }
 ],
 "metadata": {
  "kernelspec": {
   "display_name": "Python 3",
   "language": "python",
   "name": "python3"
  },
  "language_info": {
   "codemirror_mode": {
    "name": "ipython",
    "version": 3
   },
   "file_extension": ".py",
   "mimetype": "text/x-python",
   "name": "python",
   "nbconvert_exporter": "python",
   "pygments_lexer": "ipython3",
   "version": "3.5.0"
  }
 },
 "nbformat": 4,
 "nbformat_minor": 1
}
