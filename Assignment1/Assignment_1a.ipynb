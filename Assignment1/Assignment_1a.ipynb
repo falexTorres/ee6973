{
 "cells": [
  {
   "cell_type": "code",
   "execution_count": 55,
   "metadata": {
    "collapsed": true
   },
   "outputs": [],
   "source": [
    "# import numpy for matrices\n",
    "import numpy as np\n",
    "# import matplotlib for plots\n",
    "import matplotlib.pyplot as plt"
   ]
  },
  {
   "cell_type": "code",
   "execution_count": 56,
   "metadata": {
    "collapsed": false
   },
   "outputs": [],
   "source": [
    "# load data into matrices\n",
    "X = np.array([0, 1.0, 2.0, 3.0, 4.0])\n",
    "Y = np.array([1.0, 3.0, 7.0, 13.0, 21.0])"
   ]
  },
  {
   "cell_type": "code",
   "execution_count": 57,
   "metadata": {
    "collapsed": false,
    "scrolled": true
   },
   "outputs": [
    {
     "data": {
      "image/png": "[encoded data removed]",
      "text/plain": [
       "<matplotlib.figure.Figure at 0x10a0c3ac8>"
      ]
     },
     "metadata": {},
     "output_type": "display_data"
    }
   ],
   "source": [
    "# plot data\n",
    "plt.scatter(X, Y)\n",
    "plt.show()"
   ]
  },
  {
   "cell_type": "code",
   "execution_count": 58,
   "metadata": {
    "collapsed": false
   },
   "outputs": [],
   "source": [
    "# apply statistical linear regression equations to calculate yhat = mx + b\n",
    "divisor = X.dot(X) - X.mean() * X.sum()\n",
    "m = ( X.dot(Y) - Y.mean() * X.sum() ) / divisor\n",
    "b = ( Y.mean() * X.dot(X) - X.mean() * X.dot(Y) ) / divisor"
   ]
  },
  {
   "cell_type": "code",
   "execution_count": 59,
   "metadata": {
    "collapsed": false
   },
   "outputs": [
    {
     "name": "stdout",
     "output_type": "stream",
     "text": [
      "predicted line: y =  5.0 x  +  -1.0\n"
     ]
    }
   ],
   "source": [
    "# apply solutions found above to yhat = mx + b\n",
    "yhat = m * X + b\n",
    "print (\"predicted line: y = \", m, \"x\", \" + \", b)"
   ]
  },
  {
   "cell_type": "code",
   "execution_count": 60,
   "metadata": {
    "collapsed": false
   },
   "outputs": [
    {
     "data": {
      "image/png": "[encoded data removed]",
      "text/plain": [
       "<matplotlib.figure.Figure at 0x109ea9860>"
      ]
     },
     "metadata": {},
     "output_type": "display_data"
    }
   ],
   "source": [
    "# plot predicted line\n",
    "plt.scatter(X, Y)\n",
    "plt.plot(X, yhat)\n",
    "plt.show()"
   ]
  },
  {
   "cell_type": "code",
   "execution_count": 61,
   "metadata": {
    "collapsed": false
   },
   "outputs": [
    {
     "name": "stdout",
     "output_type": "stream",
     "text": [
      "percent error: 0.0530303030303\n"
     ]
    }
   ],
   "source": [
    "# compute r-squared value\n",
    "r1 = Y - yhat\n",
    "r2 = Y - Y.mean()\n",
    "\n",
    "r_squared = 1 - r1.dot(r1) / r2.dot(r2)\n",
    "\n",
    "print (\"percent error:\", 1 - r_squared)"
   ]
  }
 ],
 "metadata": {
  "kernelspec": {
   "display_name": "Python 3",
   "language": "python",
   "name": "python3"
  },
  "language_info": {
   "codemirror_mode": {
    "name": "ipython",
    "version": 3
   },
   "file_extension": ".py",
   "mimetype": "text/x-python",
   "name": "python",
   "nbconvert_exporter": "python",
   "pygments_lexer": "ipython3",
   "version": "3.5.0"
  }
 },
 "nbformat": 4,
 "nbformat_minor": 1
}
