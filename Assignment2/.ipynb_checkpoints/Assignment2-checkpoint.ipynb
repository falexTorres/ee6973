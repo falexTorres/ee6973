{
 "cells": [
  {
   "cell_type": "code",
   "execution_count": 1,
   "metadata": {
    "collapsed": false,
    "scrolled": true
   },
   "outputs": [
    {
     "name": "stdout",
     "output_type": "stream",
     "text": [
      "input nodes:\n",
      " [ 1.    2.    0.26] \n",
      "\n",
      "\n",
      "weights from input nodes to hidden layer nodes:\n",
      " [[-0.18  -0.16  -0.03  -0.15 ]\n",
      " [ 0.166 -0.18   0.01  -0.06 ]\n",
      " [ 0.14  -0.14  -0.065 -0.06 ]] \n",
      "\n",
      "\n",
      "weights from hidden layers nodes to output nodes:\n",
      " [-1.01 -1.99 -0.25 -1.64]\n"
     ]
    }
   ],
   "source": [
    "import numpy as np\n",
    "import matplotlib.pyplot as plt\n",
    "\n",
    "# initialize weights from layers 1 to 2\n",
    "# and weights from layers 2 to 3\n",
    "w_12 = np.matrix(\"-0.18 -0.16 -0.03 -0.15; 0.166 -0.18 0.01 -0.06; 0.14 -0.14 -0.065 -0.06\")\n",
    "w_23 = np.array([-1.01, -1.99, -0.25, -1.64])\n",
    "\n",
    "# initialize inputs\n",
    "inputs = np.array([1.00, 2.00, 0.26])\n",
    "\n",
    "print(\"input nodes:\\n\",inputs,\"\\n\\n\")\n",
    "print(\"weights from input nodes to hidden layer nodes:\\n\",w_12,\"\\n\\n\")\n",
    "print(\"weights from hidden layers nodes to output nodes:\\n\",w_23)"
   ]
  },
  {
   "cell_type": "code",
   "execution_count": 2,
   "metadata": {
    "collapsed": false
   },
   "outputs": [],
   "source": [
    "# define acivation function: sigmoid for this case\n",
    "layer2_outputs = np.zeros(4)\n",
    "\n",
    "def sigmoid(s):\n",
    "    denom = 1.0 + np.exp(-1.0*s)\n",
    "    return 1.0 / denom\n",
    "\n",
    "# define forward propagation function\n",
    "def feed_forward(inputs, w12, w23):\n",
    "    temp = 0\n",
    "    \n",
    "    # obtain layer 2 outputs\n",
    "    for i in range(len(w23)):\n",
    "        for j in range(len(inputs)):\n",
    "            temp += w12.item(j, i)*inputs[j]\n",
    "        layer2_outputs[i] = sigmoid(temp)\n",
    "    \n",
    "    temp = 0\n",
    "    # obtain layer 3 output\n",
    "    for k in range(len(w23)):\n",
    "        temp += w23[k]*layer2_outputs[k]\n",
    "        \n",
    "    return sigmoid(temp)   "
   ]
  },
  {
   "cell_type": "code",
   "execution_count": 3,
   "metadata": {
    "collapsed": false
   },
   "outputs": [
    {
     "name": "stdout",
     "output_type": "stream",
     "text": [
      "output of model:\n",
      "h(x) = 0.11729391447\n"
     ]
    }
   ],
   "source": [
    "# feed forward both weight matrices and input array\n",
    "h_x = feed_forward(inputs, w_12, w_23)\n",
    "print(\"output of model:\\nh(x) =\",h_x)"
   ]
  },
  {
   "cell_type": "code",
   "execution_count": 4,
   "metadata": {
    "collapsed": false
   },
   "outputs": [
    {
     "name": "stdout",
     "output_type": "stream",
     "text": [
      "error for first set of weights:\n",
      " 0.88270608553\n"
     ]
    }
   ],
   "source": [
    "# calculate error for first set of weights\n",
    "label = 1\n",
    "e = label - h_x\n",
    "print(\"error for first set of weights:\\n\", e)"
   ]
  },
  {
   "cell_type": "code",
   "execution_count": null,
   "metadata": {
    "collapsed": true
   },
   "outputs": [],
   "source": []
  }
 ],
 "metadata": {
  "kernelspec": {
   "display_name": "Python 3",
   "language": "python",
   "name": "python3"
  },
  "language_info": {
   "codemirror_mode": {
    "name": "ipython",
    "version": 3
   },
   "file_extension": ".py",
   "mimetype": "text/x-python",
   "name": "python",
   "nbconvert_exporter": "python",
   "pygments_lexer": "ipython3",
   "version": "3.5.0"
  }
 },
 "nbformat": 4,
 "nbformat_minor": 1
}
