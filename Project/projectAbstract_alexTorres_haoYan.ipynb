{
 "cells": [
  {
   "cell_type": "markdown",
   "metadata": {},
   "source": [
    "  "
   ]
  },
  {
   "cell_type": "markdown",
   "metadata": {},
   "source": [
    "<hr style=\"height:3px;border:none;color:#333;background-color:#333;\" />\n",
    "<img style=\" float:right; display:inline\" src=\"http://opencloud.utsa.edu/wp-content/themes/utsa-oci/images/logo.png\"/>\n",
    "\n",
    "### **University of Texas at San Antonio** \n",
    "<br/>\n",
    "<br/>\n",
    "<span style=\"color:#000; font-family: 'Bebas Neue'; font-size: 2.5em;\"> **Open Cloud Institute** </span>\n",
    "\n",
    "<hr style=\"height:3px;border:none;color:#333;background-color:#333;\" />"
   ]
  },
  {
   "cell_type": "markdown",
   "metadata": {
    "collapsed": true
   },
   "source": [
    "### Machine Learning/BigData EE-6973-001-Fall-2016\n",
    "\n",
    "<br/>\n",
    "<span style=\"color:#000; font-family: 'Bebas Neue'; font-size: 1.5em;\"> **Hao Yan, Ph.D. Student** </span>  \n",
    "\n",
    "\n",
    "<span style=\"color:#000; font-family: 'Bebas Neue'; font-size: 1.5em;\"> **Alex Torres, M.S. Student** </span>\n",
    "  \n",
    "\n",
    "<hr style=\"height:1.5px;border:none;color:#333;background-color:#333;\" />\n",
    "<hr style=\"height:1.5px;border:none;color:#333;background-color:#333;\" />"
   ]
  },
  {
   "cell_type": "markdown",
   "metadata": {},
   "source": [
    "<span style=\"color:#000; font-family: 'Bebas Neue'; font-size: 2em;\"> **Handwritten Digit Recognition Using a ConvNet** </span>  \n",
    "<br/>\n",
    "<br/>\n",
    "<span style=\"color:#000; font-family: 'Bebas Neue'; font-size: 1.6em;\"> Alex Torres, Hao Yan </span>  \n",
    "<span style=\"color:#000; font-family: 'Bebas Neue'; font-size: 1.4em;\"> *Open Cloud Institute, University of Texas at San Antonio, San Antonio, Texas, USA* </span>  \n",
    "<span style=\"color:#000; font-family: 'Bebas Neue'; font-size: 1.4em;\"> {rkc870, zjt628}@my.utsa.edu </span>\n",
    "<br/>\n",
    "<br/>"
   ]
  },
  {
   "cell_type": "markdown",
   "metadata": {},
   "source": [
    "<span style=\"color:#000; font-family: 'Bebas Neue'; font-size: 1.5em;\"> **Dataset:** </span> <span style=\"color:#000; font-family: 'Bebas Neue'; font-size: 1.3em;\"> The image data can be found in [http://yann.lecun.com/exdb/mnist/][1]. This directory contains 60,000 images of handwritten numeric characters for training, and 10,000 images for testing the trained model. All images also come with labels for supervised training.</span> \n",
    "\n",
    "[1]: http://www.cs.cmu.edu/afs/cs.cmu.edu/project/theo-8/faceimages/faces/"
   ]
  },
  {
   "cell_type": "markdown",
   "metadata": {},
   "source": [
    "<span style=\"color:#000; font-family: 'Bebas Neue'; font-size: 1.5em;\"> **Outcome:** </span> <span style=\"color:#000; font-family: 'Bebas Neue'; font-size: 1.3em;\"> Applying ConvNet to identify a handwritten numeric character.</span>"
   ]
  },
  {
   "cell_type": "markdown",
   "metadata": {},
   "source": [
    "<span style=\"color:#000; font-family: 'Bebas Neue'; font-size: 1.5em;\"> **Project Definition:** </span> <span style=\"color:#000; font-family: 'Bebas Neue'; font-size: 1.3em;\"> Using the deep neural network algorithm known as the Convolutional Neural Network, classification of gray scale images of handwritten numeric characters will be studied. The training dataset includes images of 60,000 different handwritten numbers, and the training dataset includes images of 20,000 different handwritten numbers. Both datasets contain handwritten characters written by over 200 different individuals.</span>\n",
    "\n",
    "<span style=\"color:#000; font-family: 'Bebas Neue'; font-size: 1.3em;\"> Each image is in a big-endian binary format, which must be decoded at the byte level using the protocol described by the link containing the image data.  The images are 28x28 pixels with each image pixel represented by an 8-bit grayscale intensity value between 0 (black) and 255 (white).</span>\n",
    "\n",
    "\n",
    "<span style=\"color:#000; font-family: 'Bebas Neue'; font-size: 1.3em;\"> The motivation for this project lies in the necessity for the automated reading of handwriting.  Proprietary methods exist, such as those used by the United States Postal Service.  However, these technologies are very expensive and not directly open to the general public to use.  Even open source solutions, such as Tesseract, are still not accurate enough to be used for critical applications.</span>\n",
    "\n",
    "[1]: Images courtesy of Google image search."
   ]
  },
  {
   "cell_type": "markdown",
   "metadata": {},
   "source": [
    "\n",
    "\n",
    "<div style=\"width:830; background-color:white; height:220px; overflow:scroll; overflow-x: scroll;overflow-y: hidden; padding-left: 9%\">\n",
    "\n",
    "<img style=\" float:left; display:inline; padding-right: 2%\" src=\"http://perso.ensta-paristech.fr/~portigliatti/media/images/work/large/reconnaissance_chiffres.png\" width=\"160\" height=\"90\"/>\n",
    "\n",
    "<img style=\" float:left; display:inline; padding-right: 5%\" src=\"https://openclipart.org/image/800px/svg_to_png/192864/0-9-Handwritten-4.png\" width=\"160\" height=\"90\"/>\n",
    "\n",
    "<img style=\" float:left; display:inline; padding-right: 5%\" src=\"https://openclipart.org/image/2400px/svg_to_png/192865/0-9-Handwritten-5.png\" width=\"160\" height=\"90\"/>\n",
    "\n",
    "<img style=\" float:left; display:inline; padding-right: 5%\" src=\"https://openclipart.org/image/2400px/svg_to_png/192869/0-9-Handwritten-9.png\" width=\"160\" height=\"90\"/>\n",
    "\n",
    "<img style=\" float:left; display:inline\" src=\"http://www.clipartkid.com/images/65/number-0-handwritten-7QdbVd-clipart.png\" width=\"80\" height=\"45\"/>\n",
    "\n",
    "</div>"
   ]
  },
  {
   "cell_type": "code",
   "execution_count": null,
   "metadata": {
    "collapsed": true
   },
   "outputs": [],
   "source": []
  }
 ],
 "metadata": {
  "kernelspec": {
   "display_name": "Python 3",
   "language": "python",
   "name": "python3"
  },
  "language_info": {
   "codemirror_mode": {
    "name": "ipython",
    "version": 3
   },
   "file_extension": ".py",
   "mimetype": "text/x-python",
   "name": "python",
   "nbconvert_exporter": "python",
   "pygments_lexer": "ipython3",
   "version": "3.5.0"
  }
 },
 "nbformat": 4,
 "nbformat_minor": 1
}
